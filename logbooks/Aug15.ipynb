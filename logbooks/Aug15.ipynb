{
 "cells": [
  {
   "cell_type": "markdown",
   "metadata": {},
   "source": [
    "Goals for week:  \n",
    "- have torus compiling and running on zen\n",
    "- look for distinguishing feactures for model (in sed) for evolution\n",
    "- look at literature to see what has be used previously and could be looked at"
   ]
  },
  {
   "cell_type": "markdown",
   "metadata": {},
   "source": [
    "[RMS13](http://iopscience.iop.org/0067-0049/208/1/11/pdf/apjs_208_1_11.pdf) paper looks at colour magnitude (in 21µ/8µ and 12µ/4.6µ cf bolometric flux) comparing mYSOs to HII regions, finding the HII redder in both.  \n",
    "Same paper also finds excess 5GHz emission when compared with kurtz(94) $S_\\nu=1.32\\times10^{-49}\\epsilon a N_{LyC} \\times \\left(\\frac{\\nu}{GHz}\\right)^{-0.1}  \\sqrt{\\frac{T_e}{K}}  \\left(\\frac{d}{kpc}\\right)^{-2}$ where $N_{LyC}$ is the number of lyman photons, $\\epsilon$ is the fraction of lyman photons ionising the gas (assumed 1) and $a=0.98$ and $T_e$ is assumed as 8000K  \n",
    "[RMS02](http://articles.adsabs.harvard.edu/cgi-bin/nph-iarticle_query?2002MNRAS.336..621L&amp;data_type=PDF_HIGH&amp;whole_paper=YES&amp;type=PRINTER&amp;filetype=.pdf) selection criteria use $F_8<F_{14}<F_{21}$ , $\\frac{F_8}{F_K}>5$ and $\\frac{F_K}{F_J}>2$ taking here j band =1.25µm and k band =2.2µm"
   ]
  },
  {
   "cell_type": "markdown",
   "metadata": {},
   "source": [
    "having trouble getting torus to compile on zen, cant find zlib even -L/lib/ or -L/lib64 is included"
   ]
  },
  {
   "cell_type": "markdown",
   "metadata": {
    "collapsed": true
   },
   "source": [
    "seems to be working now after looging out and back into zen (apparently sourcing wasnt good enough?)  \n",
    "EDIT, or not seems to be broken again  \n",
    "SEDs running but need to figure out how to run it in hybrid mode so we're not stuck to 3 processes per node  \n",
    "\n",
    "Using hybrid mode: \n",
    "\n",
    "* compile with openmp=yes\n",
    "* set env variable OMP_NUM_THREADS to number of openmp threads per mpi process\n",
    "* run with mpirun -np \\$numnodes -perhost 1 torus"
   ]
  },
  {
   "cell_type": "markdown",
   "metadata": {
    "collapsed": true
   },
   "source": [
    "17th\n",
    "\n",
    "got about half of SEDs run can start looking at some diagnostics.  \n",
    "For reference in the current SEDs (200 freqs between 0.1 and 1000µm):  \n",
    "1.25 is in bin 55  \n",
    "2.2 in 67  \n",
    "4.6 in 81  \n",
    "8 in 93  \n",
    "12 in 103  \n",
    "21 114"
   ]
  },
  {
   "cell_type": "markdown",
   "metadata": {
    "collapsed": true
   },
   "source": [
    "20th\n",
    "\n",
    "See SEDs/SEDs.pynb for first results  \n",
    "\n",
    "0 and 60 degree models both show clear reddening in both waveband ratios, both in time and as a function of luminocity, with both ratios tending towards 1.  \n",
    "The edge on 90 model is less clear however, the 21/8 ratio shows some reddening with time but is much less clear with luminocity. For the 14/4.6 ratio there is little trend at all.  \n",
    "The opposite trend is seen in the 8µm/2.2µm and 2.2µm/1.25µm ratio, as both luminocity and time increase these ratios decreases tending towards a value of 1 for the 8/2.2 and to a final value of ~10^4 for the 2.2/1.25 (though this is still decreasing and may also be tending to 1)  \n",
    "Started having a look at colour/colour plots but they dont seem to be that much use.  \n",
    "Ok colour-colour *are* useful, but only if you colour code the points so you can se evolutionary trends making it a quasi-3D plot"
   ]
  },
  {
   "cell_type": "markdown",
   "metadata": {},
   "source": [
    "Just want to look at radio fluxes now, but struggling to get time on zen.  \n",
    "As i typed that I finaly got given a 3 node session I asked for 5.5 hours ago"
   ]
  },
  {
   "cell_type": "markdown",
   "metadata": {
    "collapsed": true
   },
   "source": [
    "Rest of August & first week in September spent at RT summer school in st andrews then holiday in berlin "
   ]
  },
  {
   "cell_type": "code",
   "execution_count": null,
   "metadata": {
    "collapsed": true
   },
   "outputs": [],
   "source": []
  }
 ],
 "metadata": {
  "kernelspec": {
   "display_name": "Hy",
   "language": "hy",
   "name": "hy"
  },
  "language_info": {
   "codemirror_mode": {
    "name": "hy"
   },
   "mimetype": "text/x-hylang",
   "name": "hy",
   "pygments_lexer": "ipython3"
  }
 },
 "nbformat": 4,
 "nbformat_minor": 0
}
