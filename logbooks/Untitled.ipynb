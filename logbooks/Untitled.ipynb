{
 "cells": [
  {
   "cell_type": "code",
   "execution_count": 50,
   "metadata": {
    "collapsed": false
   },
   "outputs": [],
   "source": [
    "from sympy import Function, Symbol, init_printing, S, count_ops\n",
    "init_printing()"
   ]
  },
  {
   "cell_type": "code",
   "execution_count": 8,
   "metadata": {
    "collapsed": true
   },
   "outputs": [],
   "source": [
    "r=Symbol('r')\n",
    "z=Symbol('z')\n",
    "m=Symbol('\\mu')"
   ]
  },
  {
   "cell_type": "code",
   "execution_count": 10,
   "metadata": {
    "collapsed": false
   },
   "outputs": [],
   "source": [
    "u=Function('u')(r,z)\n",
    "v=Function('v')(r,z)\n",
    "w=Function('w')(r,z)"
   ]
  },
  {
   "cell_type": "code",
   "execution_count": 31,
   "metadata": {
    "collapsed": false
   },
   "outputs": [
    {
     "data": {
      "image/png": "[encoded data removed]",
      "text/latex": [
       "$$\\frac{\\partial}{\\partial r} u{\\left (r,z \\right )} + \\frac{\\partial}{\\partial z} w{\\left (r,z \\right )} + \\frac{1}{r} u{\\left (r,z \\right )}$$"
      ],
      "text/plain": [
       "∂             ∂             u(r, z)\n",
       "──(u(r, z)) + ──(w(r, z)) + ───────\n",
       "∂r            ∂z               r   "
      ]
     },
     "execution_count": 31,
     "metadata": {},
     "output_type": "execute_result"
    }
   ],
   "source": [
    "divV=u.diff(r)+u/r+w.diff(z)\n",
    "divV"
   ]
  },
  {
   "cell_type": "code",
   "execution_count": 32,
   "metadata": {
    "collapsed": false
   },
   "outputs": [],
   "source": [
    "t11=m*(2*u.diff(r)-2*divV/3)\n",
    "t22=m*(2*u/r-2*divV/3)\n",
    "t33=m*(2*w.diff(z)-2*divV/3)\n",
    "t12=m*(r*(v/r).diff(r))\n",
    "t13=m*(w.diff(r)+u.diff(z))\n",
    "t23=m*(v.diff(z))"
   ]
  },
  {
   "cell_type": "code",
   "execution_count": 33,
   "metadata": {
    "collapsed": false
   },
   "outputs": [
    {
     "data": {
      "image/png": "[encoded data removed]",
      "text/latex": [
       "$$\\mu \\left(\\frac{4}{3} \\frac{\\partial}{\\partial r} u{\\left (r,z \\right )} - \\frac{2}{3} \\frac{\\partial}{\\partial z} w{\\left (r,z \\right )} - \\frac{2}{3 r} u{\\left (r,z \\right )}\\right)$$"
      ],
      "text/plain": [
       "    ⎛  ∂               ∂                      ⎞\n",
       "    ⎜4⋅──(u(r, z))   2⋅──(w(r, z))            ⎟\n",
       "    ⎜  ∂r              ∂z            2⋅u(r, z)⎟\n",
       "\\mu⋅⎜───────────── - ───────────── - ─────────⎟\n",
       "    ⎝      3               3            3⋅r   ⎠"
      ]
     },
     "execution_count": 33,
     "metadata": {},
     "output_type": "execute_result"
    }
   ],
   "source": [
    "t11"
   ]
  },
  {
   "cell_type": "code",
   "execution_count": 34,
   "metadata": {
    "collapsed": false
   },
   "outputs": [
    {
     "data": {
      "image/png": "[encoded data removed]",
      "text/latex": [
       "$$\\mu \\left(- \\frac{2}{3} \\frac{\\partial}{\\partial r} u{\\left (r,z \\right )} - \\frac{2}{3} \\frac{\\partial}{\\partial z} w{\\left (r,z \\right )} + \\frac{4}{3 r} u{\\left (r,z \\right )}\\right)$$"
      ],
      "text/plain": [
       "    ⎛    ∂               ∂                      ⎞\n",
       "    ⎜  2⋅──(u(r, z))   2⋅──(w(r, z))            ⎟\n",
       "    ⎜    ∂r              ∂z            4⋅u(r, z)⎟\n",
       "\\mu⋅⎜- ───────────── - ───────────── + ─────────⎟\n",
       "    ⎝        3               3            3⋅r   ⎠"
      ]
     },
     "execution_count": 34,
     "metadata": {},
     "output_type": "execute_result"
    }
   ],
   "source": [
    "t22"
   ]
  },
  {
   "cell_type": "code",
   "execution_count": 35,
   "metadata": {
    "collapsed": false
   },
   "outputs": [
    {
     "data": {
      "image/png": "[encoded data removed]",
      "text/latex": [
       "$$\\mu \\left(- \\frac{2}{3} \\frac{\\partial}{\\partial r} u{\\left (r,z \\right )} + \\frac{4}{3} \\frac{\\partial}{\\partial z} w{\\left (r,z \\right )} - \\frac{2}{3 r} u{\\left (r,z \\right )}\\right)$$"
      ],
      "text/plain": [
       "    ⎛    ∂               ∂                      ⎞\n",
       "    ⎜  2⋅──(u(r, z))   4⋅──(w(r, z))            ⎟\n",
       "    ⎜    ∂r              ∂z            2⋅u(r, z)⎟\n",
       "\\mu⋅⎜- ───────────── + ───────────── - ─────────⎟\n",
       "    ⎝        3               3            3⋅r   ⎠"
      ]
     },
     "execution_count": 35,
     "metadata": {},
     "output_type": "execute_result"
    }
   ],
   "source": [
    "t33"
   ]
  },
  {
   "cell_type": "code",
   "execution_count": 36,
   "metadata": {
    "collapsed": false
   },
   "outputs": [
    {
     "data": {
      "image/png": "[encoded data removed]",
      "text/latex": [
       "$$\\mu r \\left(\\frac{1}{r} \\frac{\\partial}{\\partial r} v{\\left (r,z \\right )} - \\frac{1}{r^{2}} v{\\left (r,z \\right )}\\right)$$"
      ],
      "text/plain": [
       "      ⎛∂                    ⎞\n",
       "      ⎜──(v(r, z))          ⎟\n",
       "      ⎜∂r            v(r, z)⎟\n",
       "\\mu⋅r⋅⎜─────────── - ───────⎟\n",
       "      ⎜     r            2  ⎟\n",
       "      ⎝                 r   ⎠"
      ]
     },
     "execution_count": 36,
     "metadata": {},
     "output_type": "execute_result"
    }
   ],
   "source": [
    "t12"
   ]
  },
  {
   "cell_type": "code",
   "execution_count": 37,
   "metadata": {
    "collapsed": false
   },
   "outputs": [
    {
     "data": {
      "image/png": "[encoded data removed]",
      "text/latex": [
       "$$\\mu \\left(\\frac{\\partial}{\\partial z} u{\\left (r,z \\right )} + \\frac{\\partial}{\\partial r} w{\\left (r,z \\right )}\\right)$$"
      ],
      "text/plain": [
       "    ⎛∂             ∂          ⎞\n",
       "\\mu⋅⎜──(u(r, z)) + ──(w(r, z))⎟\n",
       "    ⎝∂z            ∂r         ⎠"
      ]
     },
     "execution_count": 37,
     "metadata": {},
     "output_type": "execute_result"
    }
   ],
   "source": [
    "t13"
   ]
  },
  {
   "cell_type": "code",
   "execution_count": 38,
   "metadata": {
    "collapsed": false
   },
   "outputs": [
    {
     "data": {
      "image/png": "[encoded data removed]",
      "text/latex": [
       "$$\\mu \\frac{\\partial}{\\partial z} v{\\left (r,z \\right )}$$"
      ],
      "text/plain": [
       "    ∂          \n",
       "\\mu⋅──(v(r, z))\n",
       "    ∂z         "
      ]
     },
     "execution_count": 38,
     "metadata": {},
     "output_type": "execute_result"
    }
   ],
   "source": [
    "t23"
   ]
  },
  {
   "cell_type": "code",
   "execution_count": 69,
   "metadata": {
    "collapsed": false
   },
   "outputs": [],
   "source": [
    "f_r    =t11.diff(r)+t11/r-t22/r+t13.diff(z)\n",
    "f_theta=t12.diff(r)+2*t12/r+t23.diff(z)\n",
    "f_z    =t13.diff(r)+t13/r+t33.diff(z)"
   ]
  },
  {
   "cell_type": "code",
   "execution_count": 72,
   "metadata": {
    "collapsed": false
   },
   "outputs": [
    {
     "data": {
      "image/png": "[encoded data removed]",
      "text/latex": [
       "$$\\frac{\\mu}{3 r^{2}} \\left(4 r^{2} \\frac{\\partial^{2}}{\\partial r^{2}}  u{\\left (r,z \\right )} + 3 r^{2} \\frac{\\partial^{2}}{\\partial z^{2}}  u{\\left (r,z \\right )} + r^{2} \\frac{\\partial^{2}}{\\partial r\\partial z}  w{\\left (r,z \\right )} + 4 r \\frac{\\partial}{\\partial r} u{\\left (r,z \\right )} - 4 u{\\left (r,z \\right )}\\right)$$"
      ],
      "text/plain": [
       "    ⎛       2                   2                  2                          \n",
       "    ⎜   2  ∂                2  ∂              2   ∂                  ∂        \n",
       "\\mu⋅⎜4⋅r ⋅───(u(r, z)) + 3⋅r ⋅───(u(r, z)) + r ⋅─────(w(r, z)) + 4⋅r⋅──(u(r, z\n",
       "    ⎜       2                   2               ∂z ∂r                ∂r       \n",
       "    ⎝     ∂r                  ∂z                                              \n",
       "──────────────────────────────────────────────────────────────────────────────\n",
       "                                                2                             \n",
       "                                             3⋅r                              \n",
       "\n",
       "              ⎞\n",
       "              ⎟\n",
       ")) - 4⋅u(r, z)⎟\n",
       "              ⎟\n",
       "              ⎠\n",
       "───────────────\n",
       "               \n",
       "               "
      ]
     },
     "execution_count": 72,
     "metadata": {},
     "output_type": "execute_result"
    }
   ],
   "source": [
    "f_r.simplify()"
   ]
  },
  {
   "cell_type": "code",
   "execution_count": 45,
   "metadata": {
    "collapsed": false
   },
   "outputs": [
    {
     "data": {
      "image/png": "[encoded data removed]",
      "text/latex": [
       "$$\\mu \\frac{\\partial^{2}}{\\partial r^{2}}  v{\\left (r,z \\right )} + \\mu \\frac{\\partial^{2}}{\\partial z^{2}}  v{\\left (r,z \\right )} + \\frac{\\mu}{r} \\frac{\\partial}{\\partial r} v{\\left (r,z \\right )} - \\frac{\\mu}{r^{2}} v{\\left (r,z \\right )}$$"
      ],
      "text/plain": [
       "                                          ∂                        \n",
       "      2                  2            \\mu⋅──(v(r, z))              \n",
       "     ∂                  ∂                 ∂r            \\mu⋅v(r, z)\n",
       "\\mu⋅───(v(r, z)) + \\mu⋅───(v(r, z)) + ─────────────── - ───────────\n",
       "      2                  2                   r                2    \n",
       "    ∂r                 ∂z                                    r     "
      ]
     },
     "execution_count": 45,
     "metadata": {},
     "output_type": "execute_result"
    }
   ],
   "source": [
    "f_theta.simplify()"
   ]
  },
  {
   "cell_type": "code",
   "execution_count": 46,
   "metadata": {
    "collapsed": false
   },
   "outputs": [
    {
     "data": {
      "image/png": "[encoded data removed]",
      "text/latex": [
       "$$\\frac{\\mu}{3 r} \\left(r \\frac{\\partial^{2}}{\\partial r\\partial z}  u{\\left (r,z \\right )} + 3 r \\frac{\\partial^{2}}{\\partial r^{2}}  w{\\left (r,z \\right )} + 4 r \\frac{\\partial^{2}}{\\partial z^{2}}  w{\\left (r,z \\right )} + \\frac{\\partial}{\\partial z} u{\\left (r,z \\right )} + 3 \\frac{\\partial}{\\partial r} w{\\left (r,z \\right )}\\right)$$"
      ],
      "text/plain": [
       "    ⎛     2                   2                  2                            \n",
       "    ⎜    ∂                   ∂                  ∂             ∂               \n",
       "\\mu⋅⎜r⋅─────(u(r, z)) + 3⋅r⋅───(w(r, z)) + 4⋅r⋅───(w(r, z)) + ──(u(r, z)) + 3⋅\n",
       "    ⎜  ∂z ∂r                  2                  2            ∂z              \n",
       "    ⎝                       ∂r                 ∂z                             \n",
       "──────────────────────────────────────────────────────────────────────────────\n",
       "                                           3⋅r                                \n",
       "\n",
       "           ⎞\n",
       "∂          ⎟\n",
       "──(w(r, z))⎟\n",
       "∂r         ⎟\n",
       "           ⎠\n",
       "────────────\n",
       "            "
      ]
     },
     "execution_count": 46,
     "metadata": {},
     "output_type": "execute_result"
    }
   ],
   "source": [
    "f_z.simplify()"
   ]
  },
  {
   "cell_type": "code",
   "execution_count": null,
   "metadata": {
    "collapsed": true
   },
   "outputs": [],
   "source": []
  }
 ],
 "metadata": {
  "kernelspec": {
   "display_name": "Python 2",
   "language": "python",
   "name": "python2"
  },
  "language_info": {
   "codemirror_mode": {
    "name": "ipython",
    "version": 2
   },
   "file_extension": ".py",
   "mimetype": "text/x-python",
   "name": "python",
   "nbconvert_exporter": "python",
   "pygments_lexer": "ipython2",
   "version": "2.7.11"
  }
 },
 "nbformat": 4,
 "nbformat_minor": 0
}
